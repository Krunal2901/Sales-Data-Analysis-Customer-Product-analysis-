{
 "cells": [
  {
   "cell_type": "code",
   "execution_count": 1,
   "id": "872d26ef-4917-4be5-bd4d-5bbf1b32c0e6",
   "metadata": {},
   "outputs": [],
   "source": [
    "import pandas as pd\n",
    "import numpy as np\n",
    "import string\n",
    "from sklearn.preprocessing import StandardScaler"
   ]
  },
  {
   "cell_type": "code",
   "execution_count": 5,
   "id": "750fbf1a-f65a-44bb-94f0-e2afe9aa9270",
   "metadata": {},
   "outputs": [
    {
     "name": "stdout",
     "output_type": "stream",
     "text": [
      "   Row ID        Order ID  Order Date   Ship Date       Ship Mode Customer ID  \\\n",
      "0       1  CA-2016-152156   11/8/2016  11/11/2016    Second Class    CG-12520   \n",
      "1       2  CA-2016-152156   11/8/2016  11/11/2016    Second Class    CG-12520   \n",
      "2       3  CA-2016-138688   6/12/2016   6/16/2016    Second Class    DV-13045   \n",
      "3       4  US-2015-108966  10/11/2015  10/18/2015  Standard Class    SO-20335   \n",
      "4       5  US-2015-108966  10/11/2015  10/18/2015  Standard Class    SO-20335   \n",
      "\n",
      "     Customer Name    Segment        Country             City  ...  \\\n",
      "0      Claire Gute   Consumer  United States        Henderson  ...   \n",
      "1      Claire Gute   Consumer  United States        Henderson  ...   \n",
      "2  Darrin Van Huff  Corporate  United States      Los Angeles  ...   \n",
      "3   Sean O'Donnell   Consumer  United States  Fort Lauderdale  ...   \n",
      "4   Sean O'Donnell   Consumer  United States  Fort Lauderdale  ...   \n",
      "\n",
      "  Postal Code  Region       Product ID         Category Sub-Category  \\\n",
      "0       42420   South  FUR-BO-10001798        Furniture    Bookcases   \n",
      "1       42420   South  FUR-CH-10000454        Furniture       Chairs   \n",
      "2       90036    West  OFF-LA-10000240  Office Supplies       Labels   \n",
      "3       33311   South  FUR-TA-10000577        Furniture       Tables   \n",
      "4       33311   South  OFF-ST-10000760  Office Supplies      Storage   \n",
      "\n",
      "                                        Product Name     Sales  Quantity  \\\n",
      "0                  Bush Somerset Collection Bookcase  261.9600         2   \n",
      "1  Hon Deluxe Fabric Upholstered Stacking Chairs,...  731.9400         3   \n",
      "2  Self-Adhesive Address Labels for Typewriters b...   14.6200         2   \n",
      "3      Bretford CR4500 Series Slim Rectangular Table  957.5775         5   \n",
      "4                     Eldon Fold 'N Roll Cart System   22.3680         2   \n",
      "\n",
      "   Discount    Profit  \n",
      "0      0.00   41.9136  \n",
      "1      0.00  219.5820  \n",
      "2      0.00    6.8714  \n",
      "3      0.45 -383.0310  \n",
      "4      0.20    2.5164  \n",
      "\n",
      "[5 rows x 21 columns]\n",
      "<class 'pandas.core.frame.DataFrame'>\n",
      "RangeIndex: 9994 entries, 0 to 9993\n",
      "Data columns (total 21 columns):\n",
      " #   Column         Non-Null Count  Dtype  \n",
      "---  ------         --------------  -----  \n",
      " 0   Row ID         9994 non-null   int64  \n",
      " 1   Order ID       9994 non-null   object \n",
      " 2   Order Date     9994 non-null   object \n",
      " 3   Ship Date      9994 non-null   object \n",
      " 4   Ship Mode      9994 non-null   object \n",
      " 5   Customer ID    9994 non-null   object \n",
      " 6   Customer Name  9994 non-null   object \n",
      " 7   Segment        9994 non-null   object \n",
      " 8   Country        9994 non-null   object \n",
      " 9   City           9994 non-null   object \n",
      " 10  State          9994 non-null   object \n",
      " 11  Postal Code    9994 non-null   int64  \n",
      " 12  Region         9994 non-null   object \n",
      " 13  Product ID     9994 non-null   object \n",
      " 14  Category       9994 non-null   object \n",
      " 15  Sub-Category   9994 non-null   object \n",
      " 16  Product Name   9994 non-null   object \n",
      " 17  Sales          9994 non-null   float64\n",
      " 18  Quantity       9994 non-null   int64  \n",
      " 19  Discount       9994 non-null   float64\n",
      " 20  Profit         9994 non-null   float64\n",
      "dtypes: float64(3), int64(3), object(15)\n",
      "memory usage: 1.6+ MB\n",
      "None\n"
     ]
    }
   ],
   "source": [
    "df = pd.read_csv('Sample - Superstore.csv', encoding='latin1')\n",
    "\n",
    "print(df.head())\n",
    "print(df.info())\n"
   ]
  },
  {
   "cell_type": "markdown",
   "id": "6df02dd3-291b-4c4c-bd60-c6f3f6ec96da",
   "metadata": {},
   "source": [
    "# Step 2: Standardize Text Columns"
   ]
  },
  {
   "cell_type": "code",
   "execution_count": 8,
   "id": "34395830-6881-42e7-afb5-6ea59ea5caa0",
   "metadata": {},
   "outputs": [],
   "source": [
    "text_cols = ['Ship Mode', 'Customer ID', 'Customer Name',\n",
    "             'Segment', 'Country', 'City', 'State',\n",
    "             'Region', 'Category', 'Sub-Category', 'Product Name']\n",
    "\n",
    "for col in text_cols:\n",
    "    df[col] = df[col].astype(str).str.lower().str.strip()\n",
    "    df[col] = df[col].str.replace(f\"[{string.punctuation}]\", \"\", regex=True)"
   ]
  },
  {
   "cell_type": "code",
   "execution_count": 10,
   "id": "e336b739-1327-4747-bb89-b41522c596ec",
   "metadata": {},
   "outputs": [
    {
     "name": "stdout",
     "output_type": "stream",
     "text": [
      "        Ship Mode Customer ID    Customer Name    Segment        Country  \\\n",
      "0    second class     cg12520      claire gute   consumer  united states   \n",
      "1    second class     cg12520      claire gute   consumer  united states   \n",
      "2    second class     dv13045  darrin van huff  corporate  united states   \n",
      "3  standard class     so20335    sean odonnell   consumer  united states   \n",
      "4  standard class     so20335    sean odonnell   consumer  united states   \n",
      "5  standard class     bh11710  brosina hoffman   consumer  united states   \n",
      "6  standard class     bh11710  brosina hoffman   consumer  united states   \n",
      "7  standard class     bh11710  brosina hoffman   consumer  united states   \n",
      "8  standard class     bh11710  brosina hoffman   consumer  united states   \n",
      "9  standard class     bh11710  brosina hoffman   consumer  united states   \n",
      "\n",
      "              City       State Region         Category Sub-Category  \\\n",
      "0        henderson    kentucky  south        furniture    bookcases   \n",
      "1        henderson    kentucky  south        furniture       chairs   \n",
      "2      los angeles  california   west  office supplies       labels   \n",
      "3  fort lauderdale     florida  south        furniture       tables   \n",
      "4  fort lauderdale     florida  south  office supplies      storage   \n",
      "5      los angeles  california   west        furniture  furnishings   \n",
      "6      los angeles  california   west  office supplies          art   \n",
      "7      los angeles  california   west       technology       phones   \n",
      "8      los angeles  california   west  office supplies      binders   \n",
      "9      los angeles  california   west  office supplies   appliances   \n",
      "\n",
      "                                        Product Name  \n",
      "0                  bush somerset collection bookcase  \n",
      "1  hon deluxe fabric upholstered stacking chairs ...  \n",
      "2  selfadhesive address labels for typewriters by...  \n",
      "3      bretford cr4500 series slim rectangular table  \n",
      "4                      eldon fold n roll cart system  \n",
      "5  eldon expressions wood and plastic desk access...  \n",
      "6                                         newell 322  \n",
      "7                     mitel 5320 ip phone voip phone  \n",
      "8  dxl angleview binders with locking rings by sa...  \n",
      "9                   belkin f5c206vtel 6 outlet surge  \n"
     ]
    }
   ],
   "source": [
    "print(df[text_cols].head(10))"
   ]
  },
  {
   "cell_type": "markdown",
   "id": "db76d39f-a2a5-4990-92b1-e75fc5e6504c",
   "metadata": {},
   "source": [
    "# Step 3: Check for Duplicates"
   ]
  },
  {
   "cell_type": "code",
   "execution_count": 13,
   "id": "c5b0641a-a737-46c6-89b6-3a5e036f7ab1",
   "metadata": {},
   "outputs": [
    {
     "name": "stdout",
     "output_type": "stream",
     "text": [
      "0\n"
     ]
    }
   ],
   "source": [
    "# Are there any duplicates across all columns?\n",
    "print(df.duplicated().sum())\n",
    "\n",
    "# Drop them if found\n",
    "df = df.drop_duplicates()"
   ]
  },
  {
   "cell_type": "markdown",
   "id": "6ffc05de-1579-49cc-8b81-71e70ec0c550",
   "metadata": {},
   "source": [
    "# Step 4: Outlier Check — Sales & Profit"
   ]
  },
  {
   "cell_type": "code",
   "execution_count": 16,
   "id": "d5daac29-0548-483f-93e0-dcbe1639a977",
   "metadata": {},
   "outputs": [
    {
     "name": "stdout",
     "output_type": "stream",
     "text": [
      "Sales Outlier bounds: -271.71000000000004 to 498.93\n",
      "Profit Outlier bounds: -39.724125 to 70.816875\n"
     ]
    }
   ],
   "source": [
    "# For Sales\n",
    "Q1 = df['Sales'].quantile(0.25)\n",
    "Q3 = df['Sales'].quantile(0.75)\n",
    "IQR = Q3 - Q1\n",
    "\n",
    "lower_bound = Q1 - 1.5 * IQR\n",
    "upper_bound = Q3 + 1.5 * IQR\n",
    "\n",
    "print(f\"Sales Outlier bounds: {lower_bound} to {upper_bound}\")\n",
    "\n",
    "# Same for Profit\n",
    "Q1_p = df['Profit'].quantile(0.25)\n",
    "Q3_p = df['Profit'].quantile(0.75)\n",
    "IQR_p = Q3_p - Q1_p\n",
    "\n",
    "lower_bound_p = Q1_p - 1.5 * IQR_p\n",
    "upper_bound_p = Q3_p + 1.5 * IQR_p\n",
    "\n",
    "print(f\"Profit Outlier bounds: {lower_bound_p} to {upper_bound_p}\")\n"
   ]
  },
  {
   "cell_type": "markdown",
   "id": "d9c0a729-9884-4caf-9df6-e6b26665b51d",
   "metadata": {},
   "source": [
    "# Step 5: Optional — Feature Engineering"
   ]
  },
  {
   "cell_type": "code",
   "execution_count": 21,
   "id": "91e89a71-87d8-4935-920b-374de46f30f0",
   "metadata": {},
   "outputs": [],
   "source": [
    "df['Profit Margin'] = np.where(df['Sales'] == 0, 0, df['Profit'] / df['Sales'])"
   ]
  },
  {
   "cell_type": "code",
   "execution_count": 23,
   "id": "9ded960d-2a52-4428-8723-ec65d9b6927a",
   "metadata": {},
   "outputs": [
    {
     "name": "stdout",
     "output_type": "stream",
     "text": [
      "      Sales    Profit  Profit Margin\n",
      "0  261.9600   41.9136         0.1600\n",
      "1  731.9400  219.5820         0.3000\n",
      "2   14.6200    6.8714         0.4700\n",
      "3  957.5775 -383.0310        -0.4000\n",
      "4   22.3680    2.5164         0.1125\n",
      "5   48.8600   14.1694         0.2900\n",
      "6    7.2800    1.9656         0.2700\n",
      "7  907.1520   90.7152         0.1000\n",
      "8   18.5040    5.7825         0.3125\n",
      "9  114.9000   34.4700         0.3000\n"
     ]
    }
   ],
   "source": [
    "print(df[['Sales', 'Profit', 'Profit Margin']].head(10))"
   ]
  },
  {
   "cell_type": "markdown",
   "id": "165c2f39-5133-4253-8486-f355b8d2a3b7",
   "metadata": {},
   "source": [
    "# final check "
   ]
  },
  {
   "cell_type": "code",
   "execution_count": 26,
   "id": "71bc0900-d91f-41a3-92e8-5bf7eec7cda2",
   "metadata": {},
   "outputs": [
    {
     "name": "stdout",
     "output_type": "stream",
     "text": [
      "Empty DataFrame\n",
      "Columns: [Row ID, Order ID, Order Date, Ship Date, Ship Mode, Customer ID, Customer Name, Segment, Country, City, State, Postal Code, Region, Product ID, Category, Sub-Category, Product Name, Sales, Quantity, Discount, Profit, Profit Margin]\n",
      "Index: []\n",
      "\n",
      "[0 rows x 22 columns]\n",
      "Empty DataFrame\n",
      "Columns: [Row ID, Order ID, Order Date, Ship Date, Ship Mode, Customer ID, Customer Name, Segment, Country, City, State, Postal Code, Region, Product ID, Category, Sub-Category, Product Name, Sales, Quantity, Discount, Profit, Profit Margin]\n",
      "Index: []\n",
      "\n",
      "[0 rows x 22 columns]\n"
     ]
    }
   ],
   "source": [
    "print(df[df['Sales'] < 0])\n",
    "print(df[df['Quantity'] < 0])\n"
   ]
  },
  {
   "cell_type": "code",
   "execution_count": 30,
   "id": "39b37698-69b8-4835-a68f-576cadb7adf2",
   "metadata": {},
   "outputs": [
    {
     "name": "stdout",
     "output_type": "stream",
     "text": [
      "Empty DataFrame\n",
      "Columns: [Row ID, Order ID, Order Date, Ship Date, Ship Mode, Customer ID, Customer Name, Segment, Country, City, State, Postal Code, Region, Product ID, Category, Sub-Category, Product Name, Sales, Quantity, Discount, Profit, Profit Margin]\n",
      "Index: []\n",
      "\n",
      "[0 rows x 22 columns]\n",
      "Empty DataFrame\n",
      "Columns: [Row ID, Order ID, Order Date, Ship Date, Ship Mode, Customer ID, Customer Name, Segment, Country, City, State, Postal Code, Region, Product ID, Category, Sub-Category, Product Name, Sales, Quantity, Discount, Profit, Profit Margin]\n",
      "Index: []\n",
      "\n",
      "[0 rows x 22 columns]\n"
     ]
    }
   ],
   "source": [
    "# for discount column check \n",
    "print(df[df['Discount'] < 0])\n",
    "print(df[df['Discount'] > 1])  "
   ]
  },
  {
   "cell_type": "code",
   "execution_count": 32,
   "id": "a45356e9-11c3-42e9-a6c3-68e292b64b24",
   "metadata": {},
   "outputs": [
    {
     "name": "stdout",
     "output_type": "stream",
     "text": [
      "8\n"
     ]
    }
   ],
   "source": [
    "#Check for duplicates on business keys\n",
    "print(df.duplicated(subset=['Order ID', 'Product ID']).sum())\n"
   ]
  },
  {
   "cell_type": "code",
   "execution_count": 34,
   "id": "836c004b-2ca5-44fc-88f3-a81e94b71091",
   "metadata": {},
   "outputs": [
    {
     "name": "stdout",
     "output_type": "stream",
     "text": [
      "      Row ID        Order ID  Order Date   Ship Date       Ship Mode  \\\n",
      "6498    6499  CA-2015-103135   7/24/2015   7/28/2015  standard class   \n",
      "6500    6501  CA-2015-103135   7/24/2015   7/28/2015  standard class   \n",
      "350      351  CA-2016-129714    9/1/2016    9/3/2016     first class   \n",
      "352      353  CA-2016-129714    9/1/2016    9/3/2016     first class   \n",
      "1300    1301  CA-2016-137043  12/23/2016  12/25/2016    second class   \n",
      "1301    1302  CA-2016-137043  12/23/2016  12/25/2016    second class   \n",
      "9168    9169  CA-2016-140571   3/15/2016   3/19/2016  standard class   \n",
      "9169    9170  CA-2016-140571   3/15/2016   3/19/2016  standard class   \n",
      "7881    7882  CA-2017-118017   12/3/2017   12/6/2017    second class   \n",
      "7882    7883  CA-2017-118017   12/3/2017   12/6/2017    second class   \n",
      "3183    3184  CA-2017-152912   11/9/2017  11/12/2017    second class   \n",
      "3184    3185  CA-2017-152912   11/9/2017  11/12/2017    second class   \n",
      "3405    3406  US-2014-150119   4/23/2014   4/27/2014  standard class   \n",
      "3406    3407  US-2014-150119   4/23/2014   4/27/2014  standard class   \n",
      "430      431  US-2016-123750   4/15/2016   4/21/2016  standard class   \n",
      "431      432  US-2016-123750   4/15/2016   4/21/2016  standard class   \n",
      "\n",
      "     Customer ID    Customer Name      Segment        Country           City  \\\n",
      "6498     ss20515  shirley schmidt  home office  united states     louisville   \n",
      "6500     ss20515  shirley schmidt  home office  united states     louisville   \n",
      "350      ab10060  adam bellavance  home office  united states  new york city   \n",
      "352      ab10060  adam bellavance  home office  united states  new york city   \n",
      "1300     lc17140     logan currie     consumer  united states    springfield   \n",
      "1301     lc17140     logan currie     consumer  united states    springfield   \n",
      "9168     sj20125    sanjit jacobs  home office  united states        jackson   \n",
      "9169     sj20125    sanjit jacobs  home office  united states        jackson   \n",
      "7881     lc16870    lena cacioppo     consumer  united states       thornton   \n",
      "7882     lc16870    lena cacioppo     consumer  united states       thornton   \n",
      "3183     bm11650       brian moss    corporate  united states       columbia   \n",
      "3184     bm11650       brian moss    corporate  united states       columbia   \n",
      "3405     lb16795   laurel beltran  home office  united states       columbus   \n",
      "3406     lb16795   laurel beltran  home office  united states       columbus   \n",
      "430      rb19795       ross baird  home office  united states       gastonia   \n",
      "431      rb19795       ross baird  home office  united states       gastonia   \n",
      "\n",
      "      ... Region       Product ID         Category Sub-Category  \\\n",
      "6498  ...  south  OFF-BI-10000069  office supplies      binders   \n",
      "6500  ...  south  OFF-BI-10000069  office supplies      binders   \n",
      "350   ...   east  OFF-PA-10001970  office supplies        paper   \n",
      "352   ...   east  OFF-PA-10001970  office supplies        paper   \n",
      "1300  ...  south  FUR-FU-10003664        furniture  furnishings   \n",
      "1301  ...  south  FUR-FU-10003664        furniture  furnishings   \n",
      "9168  ...  south  OFF-PA-10001954  office supplies        paper   \n",
      "9169  ...  south  OFF-PA-10001954  office supplies        paper   \n",
      "7881  ...   west  TEC-AC-10002006       technology  accessories   \n",
      "7882  ...   west  TEC-AC-10002006       technology  accessories   \n",
      "3183  ...   east  OFF-ST-10003208  office supplies      storage   \n",
      "3184  ...   east  OFF-ST-10003208  office supplies      storage   \n",
      "3405  ...   east  FUR-CH-10002965        furniture       chairs   \n",
      "3406  ...   east  FUR-CH-10002965        furniture       chairs   \n",
      "430   ...  south  TEC-AC-10004659       technology  accessories   \n",
      "431   ...  south  TEC-AC-10004659       technology  accessories   \n",
      "\n",
      "                                           Product Name     Sales Quantity  \\\n",
      "6498  gbc prepunched paper 19hole for binding system...   135.090        9   \n",
      "6500  gbc prepunched paper 19hole for binding system...    90.060        6   \n",
      "350                                          xerox 1881    24.560        2   \n",
      "352                                          xerox 1881    49.120        4   \n",
      "1300   electrix architects clampon swing arm lamp black   572.760        6   \n",
      "1301   electrix architects clampon swing arm lamp black   286.380        3   \n",
      "9168                                         xerox 1964   319.760       14   \n",
      "9169                                         xerox 1964    45.680        2   \n",
      "7881                   memorex micro travel drive 16 gb    76.752        6   \n",
      "7882                   memorex micro travel drive 16 gb   102.336        8   \n",
      "3183                  adjustable depth letterlegal cart  1633.140        9   \n",
      "3184                  adjustable depth letterlegal cart   544.380        3   \n",
      "3405  global leather highback executive chair with p...   281.372        2   \n",
      "3406  global leather highback executive chair with p...   281.372        2   \n",
      "430   imation secure hardware encrypted usb 20 flash...   408.744        7   \n",
      "431   imation secure hardware encrypted usb 20 flash...   291.960        5   \n",
      "\n",
      "      Discount    Profit  Profit Margin  \n",
      "6498       0.0   62.1414       0.460000  \n",
      "6500       0.0   41.4276       0.460000  \n",
      "350        0.0   11.5432       0.470000  \n",
      "352        0.0   23.0864       0.470000  \n",
      "1300       0.0  166.1004       0.290000  \n",
      "1301       0.0   83.0502       0.290000  \n",
      "9168       0.0  147.0896       0.460000  \n",
      "9169       0.0   21.0128       0.460000  \n",
      "7881       0.2   10.5534       0.137500  \n",
      "7882       0.2   14.0712       0.137500  \n",
      "3183       0.0  473.6106       0.290000  \n",
      "3184       0.0  157.8702       0.290000  \n",
      "3405       0.3  -12.0588      -0.042857  \n",
      "3406       0.3  -12.0588      -0.042857  \n",
      "430        0.2   76.6395       0.187500  \n",
      "431        0.2   54.7425       0.187500  \n",
      "\n",
      "[16 rows x 22 columns]\n"
     ]
    }
   ],
   "source": [
    "# Find the duplicate pairs\n",
    "dupes = df[df.duplicated(subset=['Order ID', 'Product ID'], keep=False)]\n",
    "\n",
    "# Sort for easy reading\n",
    "dupes = dupes.sort_values(by=['Order ID', 'Product ID'])\n",
    "\n",
    "print(dupes)\n"
   ]
  },
  {
   "cell_type": "code",
   "execution_count": 38,
   "id": "b03eddd2-2a3b-41e6-b8c4-3af0ac958469",
   "metadata": {},
   "outputs": [],
   "source": [
    "# Combine partial lines\n",
    "df_cleaned = df.groupby(['Order ID', 'Product ID'], as_index=False).agg({\n",
    "    'Order Date': 'first',\n",
    "    'Ship Date': 'first',\n",
    "    'Ship Mode': 'first',\n",
    "    'Customer ID': 'first',\n",
    "    'Customer Name': 'first',\n",
    "    'Segment': 'first',\n",
    "    'Country': 'first',\n",
    "    'City': 'first',\n",
    "    'State': 'first',\n",
    "    'Postal Code': 'first',\n",
    "    'Region': 'first',\n",
    "    'Category': 'first',\n",
    "    'Sub-Category': 'first',\n",
    "    'Product Name': 'first',\n",
    "    'Sales': 'sum',\n",
    "    'Quantity': 'sum',\n",
    "    'Discount': 'mean',\n",
    "    'Profit': 'sum'\n",
    "})\n",
    "\n",
    "# Recalculate profit margin\n",
    "df_cleaned['Profit Margin'] = np.where(\n",
    "    df_cleaned['Sales'] == 0, 0, df_cleaned['Profit'] / df_cleaned['Sales']\n",
    ")\n"
   ]
  },
  {
   "cell_type": "code",
   "execution_count": 40,
   "id": "b9472a6e-8102-4074-bea2-60f4f681376e",
   "metadata": {},
   "outputs": [
    {
     "name": "stdout",
     "output_type": "stream",
     "text": [
      "         Order ID       Product ID Order Date  Ship Date       Ship Mode  \\\n",
      "0  CA-2014-100006  TEC-PH-10002075   9/7/2014  9/13/2014  standard class   \n",
      "1  CA-2014-100090  FUR-TA-10003715   7/8/2014  7/12/2014  standard class   \n",
      "2  CA-2014-100090  OFF-BI-10001597   7/8/2014  7/12/2014  standard class   \n",
      "3  CA-2014-100293  OFF-PA-10000176  3/14/2014  3/18/2014  standard class   \n",
      "4  CA-2014-100328  OFF-BI-10000343  1/28/2014   2/3/2014  standard class   \n",
      "\n",
      "  Customer ID     Customer Name      Segment        Country           City  \\\n",
      "0     dk13375       dennis kane     consumer  united states  new york city   \n",
      "1     eb13705        ed braxton    corporate  united states  san francisco   \n",
      "2     eb13705        ed braxton    corporate  united states  san francisco   \n",
      "3     nf18475  neil französisch  home office  united states   jacksonville   \n",
      "4     jc15340   jasper cacioppo     consumer  united states  new york city   \n",
      "\n",
      "   ... Postal Code  Region         Category Sub-Category  \\\n",
      "0  ...       10024    east       technology       phones   \n",
      "1  ...       94122    west        furniture       tables   \n",
      "2  ...       94122    west  office supplies      binders   \n",
      "3  ...       32216   south  office supplies        paper   \n",
      "4  ...       10024    east  office supplies      binders   \n",
      "\n",
      "                                        Product Name    Sales  Quantity  \\\n",
      "0                                   att el51110 dect  377.970         3   \n",
      "1            hon 2111 invitation series corner table  502.488         3   \n",
      "2   wilson jones ledgersize pianohinge binder 2 blue  196.704         6   \n",
      "3                                         xerox 1887   91.056         6   \n",
      "4  pressboard covers with storage hooks 9 12 x 11...    3.928         1   \n",
      "\n",
      "   Discount    Profit  Profit Margin  \n",
      "0       0.0  109.6113         0.2900  \n",
      "1       0.2  -87.9354        -0.1750  \n",
      "2       0.2   68.8464         0.3500  \n",
      "3       0.2   31.8696         0.3500  \n",
      "4       0.2    1.3257         0.3375  \n",
      "\n",
      "[5 rows x 21 columns]\n",
      "Empty DataFrame\n",
      "Columns: [Order ID, Product ID, Order Date, Ship Date, Ship Mode, Customer ID, Customer Name, Segment, Country, City, State, Postal Code, Region, Category, Sub-Category, Product Name, Sales, Quantity, Discount, Profit, Profit Margin]\n",
      "Index: []\n",
      "\n",
      "[0 rows x 21 columns]\n"
     ]
    }
   ],
   "source": [
    "print(df_cleaned.head())\n",
    "print(df_cleaned[df_cleaned.duplicated(subset=['Order ID', 'Product ID'])])\n"
   ]
  },
  {
   "cell_type": "code",
   "execution_count": 42,
   "id": "45263f46-d249-4e26-8948-54495c27bf40",
   "metadata": {},
   "outputs": [
    {
     "name": "stdout",
     "output_type": "stream",
     "text": [
      "['consumer' 'corporate' 'home office']\n",
      "['furniture' 'office supplies' 'technology']\n",
      "['bookcases' 'chairs' 'labels' 'tables' 'storage' 'furnishings' 'art'\n",
      " 'phones' 'binders' 'appliances' 'paper' 'accessories' 'envelopes'\n",
      " 'fasteners' 'supplies' 'machines' 'copiers']\n",
      "['second class' 'standard class' 'first class' 'same day']\n"
     ]
    }
   ],
   "source": [
    "#Check categorical consistency\n",
    "print(df['Segment'].unique())\n",
    "print(df['Category'].unique())\n",
    "print(df['Sub-Category'].unique())\n",
    "print(df['Ship Mode'].unique())"
   ]
  },
  {
   "cell_type": "code",
   "execution_count": 50,
   "id": "2fde3a7c-bb71-43cc-871e-6a17ca980f71",
   "metadata": {},
   "outputs": [],
   "source": [
    "df_cleaned.to_csv(\"superstore_cleaned.csv\", index=False)\n"
   ]
  },
  {
   "cell_type": "code",
   "execution_count": 52,
   "id": "3f15ba1b-70ae-4c17-a93b-22961b1a3993",
   "metadata": {},
   "outputs": [],
   "source": [
    "df_cleaned.to_csv(\"superstore_cleaned.csv\", index=False, encoding='utf-8-sig')\n"
   ]
  },
  {
   "cell_type": "code",
   "execution_count": null,
   "id": "e21e6b77-8f96-4a41-ba2c-7706e46be8dd",
   "metadata": {},
   "outputs": [],
   "source": []
  }
 ],
 "metadata": {
  "kernelspec": {
   "display_name": "Python [conda env:base] *",
   "language": "python",
   "name": "conda-base-py"
  },
  "language_info": {
   "codemirror_mode": {
    "name": "ipython",
    "version": 3
   },
   "file_extension": ".py",
   "mimetype": "text/x-python",
   "name": "python",
   "nbconvert_exporter": "python",
   "pygments_lexer": "ipython3",
   "version": "3.12.7"
  }
 },
 "nbformat": 4,
 "nbformat_minor": 5
}
